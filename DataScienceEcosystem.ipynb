{
 "cells": [
  {
   "cell_type": "markdown",
   "metadata": {},
   "source": [
    "<center>\n",
    "    <img src=\"https://cf-courses-data.s3.us.cloud-object-storage.appdomain.cloud/IBMDeveloperSkillsNetwork-DS0105EN-SkillsNetwork/labs/Module2/images/SN_web_lightmode.png\" width=\"300\" alt=\"cognitiveclass.ai logo\">\n",
    "</center>\n"
   ]
  },
  {
   "cell_type": "markdown",
   "metadata": {},
   "source": [
    "# Data Science Tools and Ecosystem\n",
    "\n"
   ]
  },
  {
   "cell_type": "markdown",
   "metadata": {},
   "source": [
    "## En este cuaderno, se resumen las herramientas y ecosistemas de ciencia de datos."
   ]
  },
  {
   "cell_type": "markdown",
   "metadata": {},
   "source": [
    "## Lenguajes populares en ciencia de datos\n",
    "\n",
    "Algunos de los lenguajes populares que utilizan los científicos de datos son:\n",
    "\n",
    "1. **Python**\n",
    "3. **R** \n",
    "4. **SQL** \n",
    "5. **Julia** \n",
    "6. **Scala** \n",
    "\n",
    "\n"
   ]
  },
  {
   "cell_type": "markdown",
   "metadata": {},
   "source": [
    "## Bibliotecas de Ciencia de datos\n",
    "Algunas de las bibliotecas comúnmente utilizadas por los científicos de datos incluyen:\n",
    "1. **Pandas**\n",
    "2. **Matplotlib**\n",
    "3. **ggplot**\n",
    "4. **Numpy**\n",
    "5. **Seaborn**\n"
   ]
  },
  {
   "cell_type": "markdown",
   "metadata": {},
   "source": [
    "## Herramientas para Ciencia de Datos\n",
    "| Herramientas de Ciencia de Datos          |\n",
    "|------------------------------------------|\n",
    "| Jupyter Notebook                         |\n",
    "| VS Code                                  |\n",
    "| Apache Zeppelin                          |\n",
    "\n"
   ]
  },
  {
   "cell_type": "markdown",
   "metadata": {},
   "source": [
    "### A continuación, se presentan algunos ejemplos de evaluación de expresiones aritméticas en Python"
   ]
  },
  {
   "cell_type": "code",
   "execution_count": 8,
   "metadata": {},
   "outputs": [
    {
     "data": {
      "text/plain": [
       "17"
      ]
     },
     "execution_count": 8,
     "metadata": {},
     "output_type": "execute_result"
    }
   ],
   "source": [
    "##Esta es una expresión aritmética simple para multiplicar y luego sumar enteros\n",
    "(3*4)+5"
   ]
  },
  {
   "cell_type": "code",
   "execution_count": 11,
   "metadata": {},
   "outputs": [
    {
     "name": "stdout",
     "output_type": "stream",
     "text": [
      "el resultado en horas es = 3.3333333333333335\n"
     ]
    }
   ],
   "source": [
    "##Esto convertirá 200 minutos a horas dividiendo por 60\n",
    "x = 200/60\n",
    "print(f\"el resultado en horas es = {x}\")"
   ]
  },
  {
   "cell_type": "markdown",
   "metadata": {},
   "source": [
    "**Objetivos:**\n",
    "\n",
    "- Listar lenguajes populares para Ciencia de Datos  \n",
    "- Identificar bibliotecas esenciales utilizadas por los científicos de datos  \n",
    "- Reconocer herramientas de código abierto para el entorno de desarrollo  \n",
    "- Comprender el rol de cada componente en un flujo de trabajo típico de ciencia de datos  \n",
    "- Familiarizarse con el entorno de trabajo de un cuaderno Jupyter\n"
   ]
  },
  {
   "cell_type": "markdown",
   "metadata": {},
   "source": [
    "## Autor\n",
    "Daniel Jaramillo V"
   ]
  }
 ],
 "metadata": {
  "kernelspec": {
   "display_name": "Python 3 (ipykernel)",
   "language": "python",
   "name": "python3"
  },
  "language_info": {
   "codemirror_mode": {
    "name": "ipython",
    "version": 3
   },
   "file_extension": ".py",
   "mimetype": "text/x-python",
   "name": "python",
   "nbconvert_exporter": "python",
   "pygments_lexer": "ipython3",
   "version": "3.12.8"
  }
 },
 "nbformat": 4,
 "nbformat_minor": 4
}
